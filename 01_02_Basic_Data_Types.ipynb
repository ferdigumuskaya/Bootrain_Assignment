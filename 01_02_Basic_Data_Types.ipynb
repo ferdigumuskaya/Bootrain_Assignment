{
 "cells": [
  {
   "cell_type": "markdown",
   "metadata": {},
   "source": [
    "# Assignments for \"Basic Data Types\" "
   ]
  },
  {
   "cell_type": "markdown",
   "metadata": {},
   "source": [
    "1. Suppose you invested in Bitcoin at the end of 2017 when Bitcoin gained a lot of value. What would be your money at the end of a week if you had invested \\$1000 with an average daily increase of 12\\% ? You can solve the problem using Python."
   ]
  },
  {
   "cell_type": "code",
   "execution_count": null,
   "metadata": {
    "scrolled": true
   },
   "outputs": [],
   "source": [
    "##### Help\n",
    "\n",
    "#Create a variable capital ($1000)\n",
    "initial_capital = 1000\n",
    "# Create a variable for daily growth (12%)\n",
    "daily_growth = 0.12\n",
    "# Create a variable for period (7)\n",
    "period = 7\n",
    "# Calculate the final compound growth rate\n",
    "the_final_growth = (1+daily_growth)**period\n",
    "# Calculate result\n",
    "the_Result = initial_capital*the_final_growth\n",
    "# Print result\n",
    "print(\"The Result is: {:.2f} $\".format(the_Result))"
   ]
  },
  {
   "cell_type": "markdown",
   "metadata": {},
   "source": [
    "2. Print the text in quotes with Python. However, you must get the numbers from variables using `.format()` notation. <br> Because the text is long, you might consider writing in two lines:\n",
    "\n",
    "        `\"When we buy bitcoin with 1000 USD at the beginning of the week, we would earn 1210.68 USD at the end of the week, with an average gain of 12\\%.\"`"
   ]
  },
  {
   "cell_type": "code",
   "execution_count": null,
   "metadata": {},
   "outputs": [],
   "source": [
    "capital = 1000\n",
    "earning_money = 1210.68\n",
    "growth_rate = 12\n",
    "print(\"\"\"`\"When we buy bitcoin with {} USD at the beginning of the week,\\\n",
    "we would earn {} USD at the end of the week, \\\n",
    "with an average gain of {}\\%.\"`\"\"\".format(capital,earning_money,growth_rate))"
   ]
  },
  {
   "cell_type": "markdown",
   "metadata": {},
   "source": [
    "3. Get the temperature in Fahrenheit from user and write a code to convert it to Celcius. For conversion, you can use this formula: C = (5/9) * (F - 32)\n",
    "\n",
    "        Enter the temperature in Fahrenheit: \n",
    "        user --> 26\n",
    "        output --> Temperature (C) : -3.33"
   ]
  },
  {
   "cell_type": "code",
   "execution_count": null,
   "metadata": {},
   "outputs": [],
   "source": [
    "#Get the Temperature(F) from user\n",
    "Temp_F = int(input(\"What is the Temperature (F) as Fahrenheit? :\"))\n",
    "#Celcius calculation\n",
    "Temp_C = (5/9)*(Temp_F-32)\n",
    "#Result\n",
    "print(\"Temperature (C) : {:.2f}\".format(Temp_C)) \n"
   ]
  },
  {
   "cell_type": "markdown",
   "metadata": {},
   "source": [
    "4. Get a three digit number the from user and calculate the sum of the digits in the integer.\n",
    "\n",
    "        user --> 365\n",
    "        output --> \"The sum of digits in the number is 14"
   ]
  },
  {
   "cell_type": "code",
   "execution_count": null,
   "metadata": {},
   "outputs": [],
   "source": [
    "_3_digit_number =input(\"Please enter the 3-digit number :\")\n",
    "the_sum_number = int(_3_digit_number[0]) +int(_3_digit_number[1]) + int(_3_digit_number[2])\n",
    "print(\"The sum of digits in the number is \"+ str(the_sum_number))"
   ]
  },
  {
   "cell_type": "markdown",
   "metadata": {},
   "source": [
    "5. Write some code to calculate the hypotenuse of a right angled triangle. Get the side lengths from the user.\n",
    "\n",
    "        user --> first side lenth : 6\n",
    "        user --> first side lenth : 8\n",
    "        output --> \"The length of the hypotenuse is 10"
   ]
  },
  {
   "cell_type": "code",
   "execution_count": null,
   "metadata": {},
   "outputs": [],
   "source": [
    "_first_side_lenght = int(input(\"Please enter the first side lenght of a right angled triangle :\"))\n",
    "_other_side_lenght = int(input(\"Please enter the other side lenght of a right angled triangle :\"))\n",
    "_hypotenuse_lenght = ((_first_side_lenght**2)+(_other_side_lenght**2))**0.5\n",
    "print(\"The lenght of the hypotenuse is {:.0f}\".format(_hypotenuse_lenght))"
   ]
  }
 ],
 "metadata": {
  "kernelspec": {
   "display_name": "Python 3",
   "language": "python",
   "name": "python3"
  },
  "language_info": {
   "codemirror_mode": {
    "name": "ipython",
    "version": 3
   },
   "file_extension": ".py",
   "mimetype": "text/x-python",
   "name": "python",
   "nbconvert_exporter": "python",
   "pygments_lexer": "ipython3",
   "version": "3.7.6"
  }
 },
 "nbformat": 4,
 "nbformat_minor": 4
}
