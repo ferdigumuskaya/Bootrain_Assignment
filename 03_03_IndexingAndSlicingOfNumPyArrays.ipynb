{
 "cells": [
  {
   "cell_type": "markdown",
   "metadata": {},
   "source": [
    "# <font color=blue>Assignments for \"Indexing and Slicing of NumPy Arrays\"</font>"
   ]
  },
  {
   "cell_type": "markdown",
   "metadata": {},
   "source": [
    "For the assignment, you are going to use [Earthquakes](https://www.kaggle.com/kmlyldrn/earthquakes/download/izOLQTcLOKRObsmtrLQO%2Fversions%2FPznRtsl5ks4QmYg3QZhQ%2Ffiles%2FEarthquakes.csv?datasetVersionNumber=2) dataset."
   ]
  },
  {
   "cell_type": "markdown",
   "metadata": {},
   "source": [
    "1. Load the Earthquakes dataset. Export the dataset to an array as you covered in the previous lesson."
   ]
  },
  {
   "cell_type": "code",
   "execution_count": null,
   "metadata": {},
   "outputs": [],
   "source": [
    "import numpy as np\n",
    "dataset = np.loadtxt(\"Earthquakes.csv\",delimiter =\",\")\n",
    "earthq_array= np.array(dataset)\n",
    "earthq_array\n"
   ]
  },
  {
   "cell_type": "markdown",
   "metadata": {},
   "source": [
    "2. Slice first 20 rows and column numbers 3, 5, 6, 7, 12. Then, assign the array you sliced to a variable."
   ]
  },
  {
   "cell_type": "code",
   "execution_count": null,
   "metadata": {},
   "outputs": [],
   "source": [
    "new_earthq_array= earthq_array[:20,[3,5,6,7,12]]\n",
    "new_earthq_array"
   ]
  },
  {
   "cell_type": "markdown",
   "metadata": {},
   "source": [
    "3. Display the row numbers where last values are equal to 4.5 or higher."
   ]
  },
  {
   "cell_type": "code",
   "execution_count": null,
   "metadata": {},
   "outputs": [],
   "source": [
    "x,y = earthq_array.shape\n",
    "\n",
    "print(earthq_array[:,[y-1]][[earthq_array[:,[y-1]]>=4.5]])\n",
    "\n"
   ]
  },
  {
   "cell_type": "markdown",
   "metadata": {},
   "source": [
    "4. Assign 1 to first row."
   ]
  },
  {
   "cell_type": "code",
   "execution_count": 62,
   "metadata": {},
   "outputs": [
    {
     "data": {
      "text/plain": [
       "array([[1.000e+00, 1.000e+00, 1.000e+00, ..., 1.000e+00, 1.000e+00,\n",
       "        1.000e+00],\n",
       "       [1.000e+00, 0.000e+00, 0.000e+00, ..., 4.100e+00, 7.000e+00,\n",
       "        0.000e+00],\n",
       "       [2.000e+00, 0.000e+00, 0.000e+00, ..., 4.400e+00, 7.000e+00,\n",
       "        0.000e+00],\n",
       "       ...,\n",
       "       [6.571e+03, 4.000e+00, 0.000e+00, ..., 4.800e+00, 2.000e+00,\n",
       "        0.000e+00],\n",
       "       [6.572e+03, 3.000e+00, 0.000e+00, ..., 5.200e+00, 2.000e+00,\n",
       "        0.000e+00],\n",
       "       [6.573e+03, 2.000e+00, 0.000e+00, ..., 4.400e+00, 2.000e+00,\n",
       "        0.000e+00]])"
      ]
     },
     "execution_count": 62,
     "metadata": {},
     "output_type": "execute_result"
    }
   ],
   "source": [
    "earthq_array[0,:]=1\n",
    "earthq_array"
   ]
  },
  {
   "cell_type": "markdown",
   "metadata": {},
   "source": [
    "5. Save the final state of the array to disk. You are going to use this in the next assignment."
   ]
  },
  {
   "cell_type": "code",
   "execution_count": 61,
   "metadata": {},
   "outputs": [],
   "source": [
    "np.savetxt(\"earthquake_array.csv\",earthq_array)"
   ]
  },
  {
   "cell_type": "code",
   "execution_count": null,
   "metadata": {},
   "outputs": [],
   "source": []
  }
 ],
 "metadata": {
  "kernelspec": {
   "display_name": "Python 3",
   "language": "python",
   "name": "python3"
  },
  "language_info": {
   "codemirror_mode": {
    "name": "ipython",
    "version": 3
   },
   "file_extension": ".py",
   "mimetype": "text/x-python",
   "name": "python",
   "nbconvert_exporter": "python",
   "pygments_lexer": "ipython3",
   "version": "3.7.6"
  }
 },
 "nbformat": 4,
 "nbformat_minor": 4
}
