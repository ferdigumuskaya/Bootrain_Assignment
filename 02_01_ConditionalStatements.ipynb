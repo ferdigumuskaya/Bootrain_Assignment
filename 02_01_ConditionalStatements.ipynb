{
 "cells": [
  {
   "cell_type": "markdown",
   "metadata": {},
   "source": [
    "# Assignments for \"Conditional Statements\""
   ]
  },
  {
   "cell_type": "markdown",
   "metadata": {},
   "source": [
    "1. Please get Celcius or Fahrenheit degrees from users and type a code to convert these heat units to each other.  \n",
    "    For conversion, please use this formula: C = (5/9) * (F - 32)\n",
    "    \n",
    "        Example : \"40C\" --> \"104F\"\n",
    "                  \"52F\" --> \"11.1C\""
   ]
  },
  {
   "cell_type": "code",
   "execution_count": null,
   "metadata": {},
   "outputs": [],
   "source": [
    "preferance = input('Celcius or Fahrenheit:')\n",
    "degree = int(input ('Enter the degrees:'))\n",
    "\n",
    "if preferance == 'Celcius':\n",
    "    print (\"{} C is {}F\".format(degree,(int(degree*9/5)+32)))\n",
    "\n",
    "else :\n",
    "    print(\"{} F is {:.1f} C\".format(degree,(float(degree-32)*5/9)))"
   ]
  },
  {
   "cell_type": "markdown",
   "metadata": {},
   "source": [
    "2. A company decided to give a bonus of 5% to the employees if his/her year of service is more than 5 years.\n",
    "Ask the user for their salary and year of service and print the net bonus amount."
   ]
  },
  {
   "cell_type": "code",
   "execution_count": null,
   "metadata": {},
   "outputs": [],
   "source": [
    "salary = float(input ('Please enter your gross salary:'))\n",
    "num_o_exp = float(input('Please enter your experience/service:'))\n",
    "\n",
    "if num_o_exp >= 5:\n",
    "    print ('You deserve the amount of net bonus is : {}'.format(salary*0.05))"
   ]
  },
  {
   "cell_type": "markdown",
   "metadata": {},
   "source": [
    "3. Take input of ages of 3 people by the user and determine the oldest and youngest among them."
   ]
  },
  {
   "cell_type": "code",
   "execution_count": null,
   "metadata": {},
   "outputs": [],
   "source": [
    "age1 = int(input('Please enter your age:'))\n",
    "age2 = int(input('Please enter your age:'))\n",
    "age3 = int(input('Please enter your age:'))\n",
    "\n",
    "_max_age = age1\n",
    "_max_per = 'age1'\n",
    "\n",
    "_min_age = age1\n",
    "_min_per = 'age1'\n",
    "\n",
    "\n",
    "if age2 <_min_age :\n",
    "    _min_age = age2\n",
    "    _min_per = 'age2'\n",
    "    \n",
    "elif age2 > _max_age :\n",
    "    _max_age = age2\n",
    "    _max_per = 'age2'\n",
    "\n",
    "if age3 < _min_age :\n",
    "    _min_age = age3\n",
    "    _min_per = 'age3'\n",
    "    print('The youngest is', _min_per,_min_age)\n",
    "    print('The oldest is ',_max_per,_max_age)\n",
    "    \n",
    "elif age3>_min_age and age3<_max_age:\n",
    "    print('The youngest is',_min_per,_min_age)\n",
    "    print('The oldest is', _max_per,_max_age)\n",
    "    \n",
    "elif age3 > _max_age :\n",
    "    _max_age = age3\n",
    "    _max_per = 'age3'\n",
    "    print('The oldest is', _max_per,_max_age)\n",
    "    print('The youngest is',_min_per,_min_age)\n",
    "\n",
    "\n"
   ]
  },
  {
   "cell_type": "markdown",
   "metadata": {},
   "source": [
    "4. A student will not be allowed to attend to the exam if his / her attendance to classes is less than 75%. Take followings input from the user:\n",
    "    - Number of classes held,\n",
    "    - Number of classes attended.\n",
    "   \n",
    "    Then, print the percentage of classes attended and whether the student is allowed to attend in an exam or not."
   ]
  },
  {
   "cell_type": "code",
   "execution_count": null,
   "metadata": {},
   "outputs": [],
   "source": [
    "num_class_held = int(input('Please enter the number of classes held:'))\n",
    "num_class_attended= int(input('Please enter the number of classes attended:'))\n",
    "\n",
    "if (num_class_attended / num_class_held) < 0.75:\n",
    "    print('The precentage of your clasess attended is: %',(num_class_attended / num_class_held)*100,\\\n",
    "          'You will not be allowed to attend to the exam')\n",
    "else:\n",
    "    print('The precentage of your clasess attended is: %',(num_class_attended / num_class_held)*100,\\\n",
    "          'You will be allowed to attend to the exam')"
   ]
  },
  {
   "cell_type": "markdown",
   "metadata": {},
   "source": [
    "5. In this exercise, you will create a program that reads a letter of the alphabet from the user. According to the answer:\n",
    "\n",
    "    - If the user enters `a, e, i, o, u`, then your program should display a message indicating that the entered letter is a vowel.\n",
    "    - If the user enters `y`, then your program should display a message indicating that y is sometimes a vowel and sometimes a consonant.\n",
    "    - Otherwise, your program should display a message indicating that the letter is a consonant."
   ]
  },
  {
   "cell_type": "code",
   "execution_count": null,
   "metadata": {},
   "outputs": [],
   "source": [
    "print('Welcome to our Program - Vowel/Consonant')\n",
    "letter = input('Please enter a letter:')\n",
    "\n",
    "letter_dict = {\n",
    "    letter == 'a' : 'a vowel',\n",
    "    letter == 'e' : 'a vowel',\n",
    "    letter == 'i' : 'a vowel',\n",
    "    letter == 'o' : 'a vowel',\n",
    "    letter == 'u' : 'a vowel',\n",
    "    letter == 'y' : 'sometimes a vowel, sometimes a consonant',\n",
    "    False : 'a consonant'\n",
    "    }\n",
    " \n",
    "try:\n",
    "    print(letter, 'is',letter_dict[True])\n",
    "except:\n",
    "    print(letter, 'is',letter_dict[False])"
   ]
  },
  {
   "cell_type": "code",
   "execution_count": null,
   "metadata": {},
   "outputs": [],
   "source": []
  }
 ],
 "metadata": {
  "kernelspec": {
   "display_name": "Python 3",
   "language": "python",
   "name": "python3"
  },
  "language_info": {
   "codemirror_mode": {
    "name": "ipython",
    "version": 3
   },
   "file_extension": ".py",
   "mimetype": "text/x-python",
   "name": "python",
   "nbconvert_exporter": "python",
   "pygments_lexer": "ipython3",
   "version": "3.7.6"
  }
 },
 "nbformat": 4,
 "nbformat_minor": 4
}
