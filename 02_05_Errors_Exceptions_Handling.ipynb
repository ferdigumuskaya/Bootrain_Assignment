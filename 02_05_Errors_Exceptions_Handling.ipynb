{
 "cells": [
  {
   "cell_type": "markdown",
   "metadata": {},
   "source": [
    "# Assignments for \"Errors and Exception Handling \""
   ]
  },
  {
   "cell_type": "markdown",
   "metadata": {},
   "source": [
    "1. Let us define a division operation inside a function (using `def`) but to get an error, define the denominator as 0. So, type properly except statement."
   ]
  },
  {
   "cell_type": "code",
   "execution_count": null,
   "metadata": {},
   "outputs": [],
   "source": [
    "def div_op(num1,denominator=0):\n",
    "    try:\n",
    "        print('The Result is', int(num1//denominator))\n",
    "    except Exception as e:\n",
    "        print('The Error is {}'.format(e))\n",
    "    return\n"
   ]
  },
  {
   "cell_type": "markdown",
   "metadata": {},
   "source": [
    "2. It is possible to get multiple errors after the execution of one try block. So, please define an error-exception issue with `NameError`."
   ]
  },
  {
   "cell_type": "code",
   "execution_count": null,
   "metadata": {},
   "outputs": [],
   "source": [
    "def test_function():\n",
    "\n",
    "    try:\n",
    "        name*2\n",
    "    except NameError:\n",
    "        print('Invalid name!! Please define it')\n",
    "        return\n",
    "\n",
    "\n",
    "test_function()"
   ]
  },
  {
   "cell_type": "markdown",
   "metadata": {},
   "source": [
    "3. Please define a function and with this function, generate a `ValueError` exception simply by entering a string instead of numerical value."
   ]
  },
  {
   "cell_type": "code",
   "execution_count": null,
   "metadata": {},
   "outputs": [],
   "source": [
    "def val_er():\n",
    "        \n",
    "    try:\n",
    "        num1=int(input('Please enter a number'))\n",
    "        print(num1**2)\n",
    "    except ValueError as v:\n",
    "        print('Invalid entery!! Please enter a number instead of string')\n",
    "        \n",
    "        return\n",
    "val_er()"
   ]
  }
 ],
 "metadata": {
  "kernelspec": {
   "display_name": "Python 3",
   "language": "python",
   "name": "python3"
  },
  "language_info": {
   "codemirror_mode": {
    "name": "ipython",
    "version": 3
   },
   "file_extension": ".py",
   "mimetype": "text/x-python",
   "name": "python",
   "nbconvert_exporter": "python",
   "pygments_lexer": "ipython3",
   "version": "3.7.6"
  }
 },
 "nbformat": 4,
 "nbformat_minor": 4
}
