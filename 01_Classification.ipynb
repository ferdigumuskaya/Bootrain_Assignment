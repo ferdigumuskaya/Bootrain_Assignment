{
 "cells": [
  {
   "cell_type": "markdown",
   "metadata": {},
   "source": [
    "# <font color=blue>Assignment</font>"
   ]
  },
  {
   "cell_type": "markdown",
   "metadata": {},
   "source": [
    "Determine whether the following examples are classification problems or regression problems:"
   ]
  },
  {
   "cell_type": "markdown",
   "metadata": {},
   "source": [
    "* Given the size of the house, estimating the price of it,\n",
    "\n",
    "The price of house is the target that I am going to predict. This feature is also continuous variable, which is normally __the regression problem__"
   ]
  },
  {
   "cell_type": "markdown",
   "metadata": {},
   "source": [
    "* From the clothes of those who come to see the house, to conclude who has a high or low probability of buying the house,\n",
    "\n",
    "The target feature has 2 values, high and low probability, which is __the classification problem__"
   ]
  },
  {
   "cell_type": "markdown",
   "metadata": {},
   "source": [
    "* Using parameters such as location and date, calculate the probability of rain,\n",
    "\n",
    "The target feature, the probability of rain, takes infinite values on even in the specified interval. That is __the regression problem__"
   ]
  },
  {
   "cell_type": "markdown",
   "metadata": {},
   "source": [
    "* Estimating a one's salary using parameters such as education and experience,\n",
    "\n",
    "The target feature, the salary, takes on the infinite values and is continuous variable, which is therefore __the regression problem__"
   ]
  },
  {
   "cell_type": "markdown",
   "metadata": {},
   "source": [
    "* Estimation one's age,\n",
    "\n",
    "Target feature, age, is also consist of continous variable,therefore __the regression problem__"
   ]
  },
  {
   "cell_type": "markdown",
   "metadata": {},
   "source": [
    "* Estimation one's income,\n",
    "\n",
    "Target feature, income, is also consist of continous variable,therefore __the regression problem__"
   ]
  },
  {
   "cell_type": "markdown",
   "metadata": {},
   "source": [
    "* Estimate the direction of price of any stock.\n",
    "\n",
    "Target feature of this statement could be positive, negative or stabil, which are the categorical variables that require to determine of them by using __the categorical problem__"
   ]
  }
 ],
 "metadata": {
  "kernelspec": {
   "display_name": "Python 3",
   "language": "python",
   "name": "python3"
  },
  "language_info": {
   "codemirror_mode": {
    "name": "ipython",
    "version": 3
   },
   "file_extension": ".py",
   "mimetype": "text/x-python",
   "name": "python",
   "nbconvert_exporter": "python",
   "pygments_lexer": "ipython3",
   "version": "3.7.6"
  }
 },
 "nbformat": 4,
 "nbformat_minor": 4
}
