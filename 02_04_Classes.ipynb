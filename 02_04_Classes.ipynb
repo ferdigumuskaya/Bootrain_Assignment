{
 "cells": [
  {
   "cell_type": "markdown",
   "metadata": {},
   "source": [
    "# Assignment for \"Classes\""
   ]
  },
  {
   "cell_type": "markdown",
   "metadata": {},
   "source": [
    "In a retail application, many customers visit the retail outlet to purchase various items. The manager of the retail outlet now wants to keep track of all its items' and customers’ data. To achieve this purpose, please:\n",
    "\n",
    "\n",
    "- Define two classes named as `item` (with `item_name` and `price` attributes) and `customer` (with `customer_id`, `phone_number` attributes and `purchase` method). `purchase` method should calculate the total price with the given item name amount."
   ]
  },
  {
   "cell_type": "code",
   "execution_count": null,
   "metadata": {},
   "outputs": [],
   "source": [
    "class item(object):\n",
    "    def __init__ (self,item_name,price):\n",
    "        self.item_name = item_name\n",
    "        self.price = price\n",
    "\n",
    "class customer(item):\n",
    "    def __init__ (self,item_name,price,customer_id,phone_number):\n",
    "        item.__init__(self,item_name,price)\n",
    "        self.customer_id = customer_id\n",
    "        self.phone_number = phone_number\n",
    "    def purchase(self,amount):\n",
    "        self.amount= amount\n",
    "        return print(\"The total price of {} is {} $\".format(self.item_name,(amount*self.price)))\n",
    "    "
   ]
  },
  {
   "cell_type": "markdown",
   "metadata": {},
   "source": [
    "- Create an item."
   ]
  },
  {
   "cell_type": "code",
   "execution_count": null,
   "metadata": {},
   "outputs": [],
   "source": [
    "item1= item(\"pen\",15)"
   ]
  },
  {
   "cell_type": "markdown",
   "metadata": {},
   "source": [
    "- Create a customer with an arbitrary ID and number."
   ]
  },
  {
   "cell_type": "code",
   "execution_count": null,
   "metadata": {},
   "outputs": [],
   "source": [
    "customer1 = customer(\"pencil\",8,123,12345677897)"
   ]
  },
  {
   "cell_type": "markdown",
   "metadata": {},
   "source": [
    "- Make customers buy an item with an arbitrary amount and then print the total price."
   ]
  },
  {
   "cell_type": "code",
   "execution_count": null,
   "metadata": {},
   "outputs": [],
   "source": [
    "def main():\n",
    "    total_billing = customer(\"pencil\",8,123,12345677897)\n",
    "    \n",
    "    return print(total_billing.purchase(10))\n",
    "    \n",
    "\n",
    "main()"
   ]
  }
 ],
 "metadata": {
  "kernelspec": {
   "display_name": "Python 3",
   "language": "python",
   "name": "python3"
  },
  "language_info": {
   "codemirror_mode": {
    "name": "ipython",
    "version": 3
   },
   "file_extension": ".py",
   "mimetype": "text/x-python",
   "name": "python",
   "nbconvert_exporter": "python",
   "pygments_lexer": "ipython3",
   "version": "3.7.6"
  }
 },
 "nbformat": 4,
 "nbformat_minor": 4
}
