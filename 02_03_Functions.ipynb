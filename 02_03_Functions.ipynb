{
 "cells": [
  {
   "cell_type": "markdown",
   "metadata": {},
   "source": [
    "# Assignments for \"Functions\""
   ]
  },
  {
   "cell_type": "markdown",
   "metadata": {},
   "source": [
    "1. A prime number is an integer greater than one that is only divisible by one and itself. Write a function that determines whether or not its parameter is prime, returns `True` if it is and `False` otherwise. Write a main program that reads an integer from the user and displays a message indicating whether or not it is prime. Ensure that the main program does not run if the file containing your solution is imported into another program.<br>"
   ]
  },
  {
   "cell_type": "code",
   "execution_count": null,
   "metadata": {},
   "outputs": [],
   "source": [
    "def prime_num_check(num):\n",
    "    counter=0\n",
    "    for i in range(int(num**0.5),0,-1):\n",
    "        if num%i==0:\n",
    "            counter+=1\n",
    "    if counter>1:\n",
    "        print('This number isnot prime')\n",
    "    else:\n",
    "        print('This number is prime')\n",
    "    return True\n",
    "        \n",
    "    \n",
    "def main():\n",
    "    print('Welcome to the Prime Number Check Program \\n')\n",
    "    num= int(input('Enter a number:'))\n",
    "    prime_num_check(num)\n",
    "    \n",
    "\n",
    "main()"
   ]
  },
  {
   "cell_type": "markdown",
   "metadata": {},
   "source": [
    "2. Please write a function that passes each element of a list only once to a new list. We usually do this with the `set()` command, but let us not use this command this time.\n",
    "\n",
    "    Example:\n",
    "    \n",
    "        unique_list([1,2,2,3,3,4,4]) = [1,2,3,4] <br><br>"
   ]
  },
  {
   "cell_type": "code",
   "execution_count": null,
   "metadata": {},
   "outputs": [],
   "source": [
    "def unique_list(sequence):\n",
    "    sequence.sort()\n",
    "    for i in sequence:\n",
    "        if i==sequence[sequence.index(i)+1]:\n",
    "              sequence.pop(sequence.index(i))\n",
    "            \n",
    "      \n",
    "    return sequence\n",
    "\n",
    "unique_list([1,2,2,3,3,4,4])\n"
   ]
  },
  {
   "cell_type": "markdown",
   "metadata": {},
   "source": [
    "3. There are many built-in modules in Python. By importing one of the modules on time, write a function that takes the date of birth as a parameter and returns the age.<br><br>"
   ]
  },
  {
   "cell_type": "code",
   "execution_count": null,
   "metadata": {},
   "outputs": [],
   "source": [
    "from datetime import date\n",
    "def age_calculation(byear,bday,bmonth):\n",
    "    my_birthday= date(byear,bday,bmonth)\n",
    "    my_age = (date.today() - my_birthday).days//365\n",
    "    return my_age\n",
    "\n",
    "age_calculation(1989,7,14)"
   ]
  },
  {
   "cell_type": "markdown",
   "metadata": {},
   "source": [
    "4. Get a number from the user and calculate the factorial of it by using a function.<br><br>"
   ]
  },
  {
   "cell_type": "code",
   "execution_count": null,
   "metadata": {},
   "outputs": [],
   "source": [
    "def factorial(num):\n",
    "    result = 1\n",
    "    for i in range(int(num),0,-1):\n",
    "        result*=i\n",
    "    print('The result is:',result)\n",
    "    return result\n",
    "\n",
    "def main2():\n",
    "    print('Welcome to the Factorial Number Calculation Program \\n')\n",
    "    num= int(input('Enter a number:'))\n",
    "    factorial(num)\n",
    "    \n",
    "main2()"
   ]
  },
  {
   "cell_type": "markdown",
   "metadata": {},
   "source": [
    "5. Write a function named `perfect()` that determines if the parameter number is a perfect number. Use this function in a program that determines and prints all the perfect numbers between 1 and 1000.\n",
    "\n",
    "    An integer number is said to be a `perfect number` if its factors (including 1, but not the number itself) sum to the number. \n",
    "\n",
    "        E.g.: 6 is a perfect number because 6 = 1 + 2 + 3.<br><br>"
   ]
  },
  {
   "cell_type": "code",
   "execution_count": null,
   "metadata": {},
   "outputs": [],
   "source": [
    "def perfect():\n",
    "    for i in range(1,1000):\n",
    "        check = 0\n",
    "        x =[]\n",
    "        for j in range(i//2,0,-1):\n",
    "            if i%j==0:\n",
    "                check+=(j)\n",
    "                x.append(j)\n",
    "        if check==i:\n",
    "            print('the perfect number is {} because {} is the sum of {}'.format(i,i,x))\n",
    "    return \n",
    "\n",
    "perfect()"
   ]
  },
  {
   "cell_type": "markdown",
   "metadata": {},
   "source": [
    "6. Write a Python function that prints out the first n rows of [Pascal's triangle](https://en.wikipedia.org/wiki/Pascal%27s_triangle). \n",
    "\n",
    "<div style=\"text-align:center;\">\n",
    "    <img src=\"https://bootrain-lms-assets.s3.eu-central-1.amazonaws.com/bootrain-lms-static/images/02_IntermediatePython/03_PascalsTriangle.gif\" width=\"200\">\n",
    "    \n",
    "    In Pascal's triangle, each number is the sum of the two numbers directly above it.\n",
    "</div>"
   ]
  },
  {
   "cell_type": "code",
   "execution_count": null,
   "metadata": {},
   "outputs": [],
   "source": [
    "def Pascal_triangle(n):\n",
    "    liste=[[1]]\n",
    "    for i in range(1,n):\n",
    "        liste.append([])\n",
    "        liste[i].append(1)\n",
    "        for j in range(1,i):\n",
    "            liste[i].append(liste[i-1][j-1]+liste[i-1][j])\n",
    "        if n!=0:\n",
    "            liste[i].append(1)\n",
    "    for t in range(n):\n",
    "        print(*liste[t])\n",
    "    return\n",
    "\n",
    "Pascal_triangle(5)\n",
    "        "
   ]
  }
 ],
 "metadata": {
  "kernelspec": {
   "display_name": "Python 3",
   "language": "python",
   "name": "python3"
  },
  "language_info": {
   "codemirror_mode": {
    "name": "ipython",
    "version": 3
   },
   "file_extension": ".py",
   "mimetype": "text/x-python",
   "name": "python",
   "nbconvert_exporter": "python",
   "pygments_lexer": "ipython3",
   "version": "3.7.6"
  }
 },
 "nbformat": 4,
 "nbformat_minor": 4
}
