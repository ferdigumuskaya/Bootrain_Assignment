{
 "cells": [
  {
   "cell_type": "markdown",
   "metadata": {
    "colab_type": "text",
    "id": "zTOA3yGE7hox"
   },
   "source": [
    "# <font color=blue>Assignment for \"Grouping and Aggregation Operations on DataFrames\"</font>\n",
    "\n",
    "For Pandas assignments, you are going to use [Titanic](https://www.kaggle.com/c/titanic/download/GQf0y8ebHO0C4JXscPPp%2Fversions%2FXkNkvXwqPPVG0Qt3MtQT%2Ffiles%2Ftrain.csv) (train.csv) dataset. Download the dataset and load to a data frame.\n",
    "\n",
    "1. Calculate the average age of the passengers for each gender and passenger class by using `groupby()` method."
   ]
  },
  {
   "cell_type": "code",
   "execution_count": null,
   "metadata": {},
   "outputs": [],
   "source": [
    "import pandas as pd\n",
    "titanic = pd.read_csv('train.csv', index_col=0)\n",
    "titanic\n",
    "\n",
    "\n",
    "titanic.groupby(by= ['Sex','Pclass'])['Age'].mean()\n",
    "\n"
   ]
  },
  {
   "cell_type": "markdown",
   "metadata": {},
   "source": [
    "2. Group by embarkation port and print values. (Notice that you get unique values with this.)"
   ]
  },
  {
   "cell_type": "code",
   "execution_count": 34,
   "metadata": {},
   "outputs": [
    {
     "name": "stdout",
     "output_type": "stream",
     "text": [
      "0 ('C', PassengerId\n",
      "2      71.2833\n",
      "10     30.0708\n",
      "20      7.2250\n",
      "27      7.2250\n",
      "31     27.7208\n",
      "        ...   \n",
      "867    13.8583\n",
      "875    24.0000\n",
      "876     7.2250\n",
      "880    83.1583\n",
      "890    30.0000\n",
      "Name: Fare, Length: 168, dtype: float64)\n",
      "1 ('Q', PassengerId\n",
      "6       8.4583\n",
      "17     29.1250\n",
      "23      8.0292\n",
      "29      7.8792\n",
      "33      7.7500\n",
      "        ...   \n",
      "791     7.7500\n",
      "826     6.9500\n",
      "829     7.7500\n",
      "886    29.1250\n",
      "891     7.7500\n",
      "Name: Fare, Length: 77, dtype: float64)\n",
      "2 ('S', PassengerId\n",
      "1       7.2500\n",
      "3       7.9250\n",
      "4      53.1000\n",
      "5       8.0500\n",
      "7      51.8625\n",
      "        ...   \n",
      "884    10.5000\n",
      "885     7.0500\n",
      "887    13.0000\n",
      "888    30.0000\n",
      "889    23.4500\n",
      "Name: Fare, Length: 644, dtype: float64)\n"
     ]
    }
   ],
   "source": [
    "titanic\n",
    "for embarked,fare in enumerate (titanic.groupby(by='Embarked')[\"Fare\"]):\n",
    "    print(embarked,fare)\n",
    "    #display(fare)\n",
    "\n"
   ]
  }
 ],
 "metadata": {
  "kernelspec": {
   "display_name": "Python 3",
   "language": "python",
   "name": "python3"
  },
  "language_info": {
   "codemirror_mode": {
    "name": "ipython",
    "version": 3
   },
   "file_extension": ".py",
   "mimetype": "text/x-python",
   "name": "python",
   "nbconvert_exporter": "python",
   "pygments_lexer": "ipython3",
   "version": "3.7.6"
  }
 },
 "nbformat": 4,
 "nbformat_minor": 4
}
