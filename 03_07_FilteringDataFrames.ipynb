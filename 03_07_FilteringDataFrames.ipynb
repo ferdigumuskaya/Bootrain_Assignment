{
 "cells": [
  {
   "cell_type": "markdown",
   "metadata": {},
   "source": [
    "# <font color=blue>Assignments for Filtering Dataframes</font>\n",
    "\n",
    "For Pandas assignments, you are going to use [Titanic](https://www.kaggle.com/c/titanic/download/GQf0y8ebHO0C4JXscPPp%2Fversions%2FXkNkvXwqPPVG0Qt3MtQT%2Ffiles%2Ftrain.csv) (train.csv) dataset. Download the dataset and load to a DataFrame.\n",
    "\n",
    "1. By using conditional selection methods, calculate the survival rate for all passengers under 30 years old.\n"
   ]
  },
  {
   "cell_type": "code",
   "execution_count": 81,
   "metadata": {},
   "outputs": [
    {
     "name": "stdout",
     "output_type": "stream",
     "text": [
      "The number of survived passengers at Titanic : 384\n",
      "The number of survived passengers under 30 years old at Titanic : 156\n",
      "The survival rate of all passengers under 30 years old at Titanic : 0.46\n"
     ]
    }
   ],
   "source": [
    "import pandas as pd\n",
    "titanic = pd.read_csv('train.csv',index_col=0)\n",
    "titanic\n",
    "\n",
    "print('The number of survived passengers at Titanic :',titanic[(titanic['Age']<30)].shape[0])\n",
    "print('The number of survived passengers under 30 years old at Titanic :',titanic[(titanic['Survived']==1) & (titanic['Age']<30)].shape[0])\n",
    "\n",
    "survival_rate = (titanic[(titanic['Survived']==1) & (titanic['Age']<30)].shape[0]) /(titanic[titanic['Survived']==1].shape[0])\n",
    "print('The survival rate of all passengers under 30 years old at Titanic : {:.2f}'.format(survival_rate))\n"
   ]
  },
  {
   "cell_type": "markdown",
   "metadata": {},
   "source": [
    "2. Calculate the survival rate by gender."
   ]
  },
  {
   "cell_type": "code",
   "execution_count": 94,
   "metadata": {},
   "outputs": [
    {
     "name": "stdout",
     "output_type": "stream",
     "text": [
      "The survival rate of female passengers at Titanic : 0.74\n",
      "The survival rate of male passengers at Titanic : 0.19\n"
     ]
    }
   ],
   "source": [
    "#print(titanic[(titanic['Sex']=='male') & (titanic['Survived']==1)].shape[0])\n",
    "#print(titanic[(titanic['Sex']=='male')].shape[0])\n",
    "#print(titanic[(titanic['Sex']=='female') & (titanic['Survived']==1)].shape[0])\n",
    "#print(titanic[(titanic['Sex']=='female')].shape[0])\n",
    "\n",
    "sur_rate_male = (titanic[(titanic['Sex']=='male') & (titanic['Survived']==1)].shape[0])/titanic[(titanic['Sex']=='male')].shape[0]\n",
    "\n",
    "sur_rate_female = ((titanic[(titanic['Sex']=='female') & (titanic['Survived']==1)].shape[0])/titanic[(titanic['Sex']=='female')].shape[0])\n",
    "\n",
    "print('The survival rate of female passengers at Titanic : {:.2f}'.format(sur_rate_female))\n",
    "print('The survival rate of male passengers at Titanic : {:.2f}'.format(sur_rate_male))"
   ]
  }
 ],
 "metadata": {
  "kernelspec": {
   "display_name": "Python 3",
   "language": "python",
   "name": "python3"
  },
  "language_info": {
   "codemirror_mode": {
    "name": "ipython",
    "version": 3
   },
   "file_extension": ".py",
   "mimetype": "text/x-python",
   "name": "python",
   "nbconvert_exporter": "python",
   "pygments_lexer": "ipython3",
   "version": "3.7.6"
  }
 },
 "nbformat": 4,
 "nbformat_minor": 4
}
