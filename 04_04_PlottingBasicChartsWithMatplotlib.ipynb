{
 "cells": [
  {
   "cell_type": "markdown",
   "metadata": {},
   "source": [
    "# <font color=blue>Assignments for \"Plotting Basic Charts With Matplotlib\"</font>"
   ]
  },
  {
   "cell_type": "markdown",
   "metadata": {},
   "source": [
    "In this assignment, you will continue work with the [Coronavirus Source Data](https://ourworldindata.org/coronavirus-source-data). You will plot different chart types. Don't forget to set titles and axis labels."
   ]
  },
  {
   "cell_type": "code",
   "execution_count": null,
   "metadata": {},
   "outputs": [],
   "source": [
    "import pandas as pd\n",
    "import numpy as np\n",
    "import matplotlib.pyplot as plt\n",
    "\n",
    "title_style = {'family': 'Arial', 'color': 'darkred', 'size': 15}\n",
    "axis_style  = {'family': 'Arial', 'color': 'darkblue', 'size': 12 }\n",
    "\n",
    "import warnings\n",
    "warnings.filterwarnings('ignore')\n",
    "\n",
    "corona_data = pd.read_csv('https://covid.ourworldindata.org/data/owid-covid-data.csv',low_memory=False, date_parser = ['date'])\n",
    "corona_data.head()\n"
   ]
  },
  {
   "cell_type": "markdown",
   "metadata": {},
   "source": [
    "1. Plot a bar chart for total cases of the 20 countries that havebiggest numbers."
   ]
  },
  {
   "cell_type": "code",
   "execution_count": null,
   "metadata": {},
   "outputs": [],
   "source": [
    "n_corona=pd.DataFrame(corona_data.groupby(by='location')['total_cases'].max().sort_values().dropna())\n",
    "plt.title('The Total Cases of 20 Countries having the biggest numbers',fontdict=title_style)\n",
    "plt.xlabel('Countries', fontdict=axis_style)\n",
    "plt.ylabel('# of Total Cases(Million)', fontdict=axis_style)\n",
    "plt.xticks(rotation=90, fontsize=8)\n",
    "plt.yticks()\n",
    "plt.bar((n_corona.iloc[190:210].index),n_corona[190:210]['total_cases']/100000)\n",
    "plt.show()"
   ]
  },
  {
   "cell_type": "markdown",
   "metadata": {},
   "source": [
    "2. Plot a histogram for daily deaths for any country you choose. Make three subplots for different bins."
   ]
  },
  {
   "cell_type": "code",
   "execution_count": null,
   "metadata": {},
   "outputs": [],
   "source": [
    "\n",
    "#pd.concat([corona_data[corona_data['location']=='Germany']['date'],corona_data[corona_data['location']=='Germany']['new_deaths']], axis=1)\n",
    "\n",
    "plt.figure(figsize=(18,6))\n",
    "\n",
    "plt.suptitle('The Daily deaths for Germany', fontdict=title_style, size=20)\n",
    "plt.subplot(1,3,1)\n",
    "plt.hist(corona_data[corona_data['location']=='Germany']['new_deaths'], bins=50)\n",
    "plt.ylabel('# of daily deaths', fontdict=axis_style)\n",
    "\n",
    "\n",
    "plt.subplot(1,3,2)\n",
    "plt.hist(corona_data[corona_data['location']=='Germany']['new_deaths'], bins=25)\n",
    "plt.ylabel('# of daily deaths', fontdict=axis_style)\n",
    "\n",
    "plt.subplot(1,3,3)\n",
    "plt.hist(corona_data[corona_data['location']=='Germany']['new_deaths'], bins=10)\n",
    "plt.ylabel('# of daily deaths', fontdict=axis_style)\n",
    "\n",
    "plt.show()"
   ]
  },
  {
   "cell_type": "markdown",
   "metadata": {},
   "source": [
    "3. Plot a scatter plot of new cases and new death for Germany and France."
   ]
  },
  {
   "cell_type": "code",
   "execution_count": null,
   "metadata": {},
   "outputs": [],
   "source": [
    "plt.figure(figsize=(20,8))\n",
    "for country in ['Germany', 'France']:\n",
    "    plt.scatter(corona_data[corona_data.location == country].new_cases, \n",
    "                corona_data[corona_data.location == country].new_deaths, label = country)\n",
    "plt.title('New Cases and Death for Germany & France', fontdict=title_style)\n",
    "plt.xlabel('New Cases', fontdict=axis_style)\n",
    "plt.ylabel('New Deaths', fontdict=axis_style)\n",
    "plt.legend()\n",
    "plt.show()"
   ]
  },
  {
   "cell_type": "markdown",
   "metadata": {},
   "source": [
    "4. Plot a boxplot for daily deaths for any country you choose."
   ]
  },
  {
   "cell_type": "code",
   "execution_count": null,
   "metadata": {},
   "outputs": [],
   "source": [
    "plt.boxplot(corona_data[corona_data['location']=='Turkey'].new_deaths.dropna())\n",
    "plt.title('Daily Deaths for Turkey',fontdict=title_style)\n",
    "plt.ylabel('# of daily deaths', fontdict=axis_style)\n",
    "plt.xlabel('Turkey', fontdict=axis_style)\n",
    "plt.show()\n"
   ]
  },
  {
   "cell_type": "markdown",
   "metadata": {},
   "source": [
    "5. Calculate the total case for each continent and plot a pie chart "
   ]
  },
  {
   "cell_type": "code",
   "execution_count": null,
   "metadata": {},
   "outputs": [],
   "source": [
    "y=corona_data[corona_data['date']=='2020-08-05'].groupby(by='continent')['total_cases'].sum().index\n",
    "x=corona_data[corona_data['date']=='2020-08-05'].groupby(by='continent')['total_cases'].sum()\n",
    "x\n",
    "plt.figure(figsize=(10, 6))\n",
    "plt.title('Total Current Case Distribution by Continent', fontdict = title_style)\n",
    "plt.pie(x,labels=y,autopct='%.2f%%',textprops=axis_style)\n",
    "plt.show()"
   ]
  }
 ],
 "metadata": {
  "kernelspec": {
   "display_name": "Python 3",
   "language": "python",
   "name": "python3"
  },
  "language_info": {
   "codemirror_mode": {
    "name": "ipython",
    "version": 3
   },
   "file_extension": ".py",
   "mimetype": "text/x-python",
   "name": "python",
   "nbconvert_exporter": "python",
   "pygments_lexer": "ipython3",
   "version": "3.7.6"
  }
 },
 "nbformat": 4,
 "nbformat_minor": 4
}
