{
 "cells": [
  {
   "cell_type": "markdown",
   "metadata": {},
   "source": [
    "# Assignments for \"Loops\""
   ]
  },
  {
   "cell_type": "markdown",
   "metadata": {},
   "source": [
    "1. Please form a multiplication table from user input.\n",
    "\n",
    "    Example :\n",
    "\n",
    "        Enter a number : 6\n",
    "        6 x 1 = 6                                                               \n",
    "        6 x 2 = 12                                                              \n",
    "        6 x 3 = 18                                                              \n",
    "        6 x 4 = 24                                                              \n",
    "        6 x 5 = 30                                                              \n",
    "        6 x 6 = 36                                                              \n",
    "        6 x 7 = 42                                                              \n",
    "        6 x 8 = 48                                                              \n",
    "        6 x 9 = 54                                                              \n",
    "        6 x 10 = 60 "
   ]
  },
  {
   "cell_type": "code",
   "execution_count": null,
   "metadata": {},
   "outputs": [],
   "source": [
    "num = int(input('Please enter a number:'))\n",
    "\n",
    "for i in range(1,11):\n",
    "    print(num,'x',i,'=',int(num*i))"
   ]
  },
  {
   "cell_type": "markdown",
   "metadata": {},
   "source": [
    "2. Simply by using list compherension, form a list by taking square of odds numbers and by calculating cube of even numbers from 1 to 20. <br><br>\n"
   ]
  },
  {
   "cell_type": "code",
   "execution_count": null,
   "metadata": {},
   "outputs": [],
   "source": [
    "odd_even =[[x**3 for x in range(1,20) if x%2==0], [x**2 for x in range(1,20) if x%2==1]]\n",
    "print(odd_even)"
   ]
  },
  {
   "cell_type": "markdown",
   "metadata": {},
   "source": [
    "3. Please type a code that inverts the initial user input.\n",
    "\n",
    "    Example : \"automobile\" --> \"elibomotua\"<br><br>"
   ]
  },
  {
   "cell_type": "code",
   "execution_count": null,
   "metadata": {},
   "outputs": [],
   "source": [
    "_input = input('Please enter a word:')\n",
    "liste = list()\n",
    "i=1\n",
    "for c in _input:\n",
    "     liste.append(c)\n",
    "r_input = \"\"\n",
    "for t in liste:\n",
    "    r_input+= liste[len(_input)-i]\n",
    "    i+=1\n",
    "print(r_input)   "
   ]
  },
  {
   "cell_type": "markdown",
   "metadata": {},
   "source": [
    "4. Using `range(1, 201)`, make two lists. One is containing all even numbers and the other containing all odd numbers.<br><br>"
   ]
  },
  {
   "cell_type": "code",
   "execution_count": null,
   "metadata": {},
   "outputs": [],
   "source": [
    "even_num=[]\n",
    "odd_num =[]\n",
    "\n",
    "for i in range(1,201):\n",
    "    if i%2 ==0:\n",
    "        even_num.append(i)\n",
    "    else:\n",
    "        odd_num.append(i)\n",
    "print(even_num)\n",
    "print(odd_num)"
   ]
  },
  {
   "cell_type": "markdown",
   "metadata": {},
   "source": [
    "5. Define a function called `count` that has two arguments called `sequence` and `item`. Return the number of times the item occurs in the list.<br>\n",
    "\n",
    "    Example:\n",
    "    ```python\n",
    "    count([1,2,1,1], 1)\n",
    "    ```\n",
    "    It should return 3. Because `1` appears 3 times in the list.<br><br>"
   ]
  },
  {
   "cell_type": "code",
   "execution_count": null,
   "metadata": {},
   "outputs": [],
   "source": [
    "def count (sequence, item):\n",
    "    counter=0\n",
    "    for i in sequence:\n",
    "        if item == i:\n",
    "            counter +=1\n",
    "        \n",
    "    return counter\n",
    "\n",
    "count([1,2,1,1],1)\n"
   ]
  },
  {
   "cell_type": "markdown",
   "metadata": {},
   "source": [
    "6. Write a function called `digit_sum` that takes a positive integer n as input and returns the sum of all that number's digits as a single-digit number.\n",
    "\n",
    "    Example:\n",
    "        27684 --> 2 + 7 + 6 + 8 + 4 = 27 --> 2 + 7 = 9<br>"
   ]
  },
  {
   "cell_type": "code",
   "execution_count": null,
   "metadata": {},
   "outputs": [],
   "source": [
    "def digit_sum(n):\n",
    "    c=0\n",
    "    d=0\n",
    "    for i in str(n):\n",
    "        c+=int(i)\n",
    "    for k in str(c):\n",
    "        d+=int(k)\n",
    "    \n",
    "    return d\n",
    "        \n",
    "digit_sum(27684)"
   ]
  },
  {
   "cell_type": "markdown",
   "metadata": {},
   "source": [
    "7. Write a program to find greatest common divisor (GCD) or highest common factor (HCF) of given two numbers.<br><br>"
   ]
  },
  {
   "cell_type": "code",
   "execution_count": null,
   "metadata": {},
   "outputs": [],
   "source": [
    "num1 = int(input('Enter a number:'))\n",
    "num2 = int(input('Enter a number:'))\n",
    "\n",
    "if num1 % num2 == 0:\n",
    "    print('GCD is',num2,'HCF is',int(num1*num2/num2))\n",
    "else:    \n",
    "    for i in range(int(num2 / 2), 0, -1):\n",
    "            if num1 % i == 0 and num1 % i == 0:\n",
    "                print('GCD is', i, 'HCF is',int(num1*num2/i))\n",
    "                break \n"
   ]
  },
  {
   "cell_type": "markdown",
   "metadata": {},
   "source": [
    "8. Write a Python program that iterates integers from 1 to 50. For multiples of three print `fizz` instead of the number and for the multiples of five print `buzz`. For numbers which are multiples of both three and five print `fizzbuzz`.\n"
   ]
  },
  {
   "cell_type": "code",
   "execution_count": null,
   "metadata": {},
   "outputs": [],
   "source": [
    "a ='fizz'\n",
    "b = 'buzz'\n",
    "c=a+b\n",
    "\n",
    "for i in range(1,50):\n",
    "    if i%15==0:\n",
    "        print(c)\n",
    "    elif i%3==0:\n",
    "        print(a)\n",
    "    elif i%5==0:\n",
    "        print(b)\n",
    "    else:\n",
    "        print(i)\n",
    "\n",
    "        \n",
    "        "
   ]
  },
  {
   "cell_type": "markdown",
   "metadata": {},
   "source": [
    "9. Please form a list out of Fibonacci numbers from 1 to 50. The first two Fibonacci numbers are 1. The next numbers are the sum of the previous two."
   ]
  },
  {
   "cell_type": "code",
   "execution_count": null,
   "metadata": {},
   "outputs": [],
   "source": [
    "1, 1, 2 , 3, 5, 8, 13, 21, 34,\n",
    "\n",
    "fib= [1,1]\n",
    "for i in range(1,50):\n",
    "    fib.append(fib[i-1] + fib[i])\n",
    "\n",
    "print(fib)\n",
    "    \n"
   ]
  }
 ],
 "metadata": {
  "kernelspec": {
   "display_name": "Python 3",
   "language": "python",
   "name": "python3"
  },
  "language_info": {
   "codemirror_mode": {
    "name": "ipython",
    "version": 3
   },
   "file_extension": ".py",
   "mimetype": "text/x-python",
   "name": "python",
   "nbconvert_exporter": "python",
   "pygments_lexer": "ipython3",
   "version": "3.7.6"
  }
 },
 "nbformat": 4,
 "nbformat_minor": 4
}
