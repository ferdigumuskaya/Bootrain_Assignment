{
 "cells": [
  {
   "cell_type": "markdown",
   "metadata": {},
   "source": [
    "# Assignments for \"File Operations\""
   ]
  },
  {
   "cell_type": "markdown",
   "metadata": {},
   "source": [
    "1. Please write a poem you wanted in a `.txt` file and save it to the disk."
   ]
  },
  {
   "cell_type": "code",
   "execution_count": null,
   "metadata": {},
   "outputs": [],
   "source": [
    "with open ('poem.txt','w') as f:\n",
    "    f.write('Uzulme kelebegim. \\n')\n",
    "    f.write('Bugunu atlatirsak,\\n')\n",
    "    f.write('Yarin diye birsey yok! \\n')\n",
    "    f.write('Ah Muhsin Unlu \\n')\n"
   ]
  },
  {
   "cell_type": "markdown",
   "metadata": {},
   "source": [
    "2. Append a new poem into the file you have created."
   ]
  },
  {
   "cell_type": "code",
   "execution_count": null,
   "metadata": {},
   "outputs": [],
   "source": [
    "with open ('poem.txt','a') as f:\n",
    "    f.write ('\\nNedir? dedim bu yasamak \\n')\n",
    "    f.write('Bir düs, dedi; bir kac goruntu \\n')\n",
    "    f.write('Omer Hayyam \\n')\n"
   ]
  },
  {
   "cell_type": "markdown",
   "metadata": {},
   "source": [
    "3. Read and print all poems."
   ]
  },
  {
   "cell_type": "code",
   "execution_count": null,
   "metadata": {},
   "outputs": [],
   "source": [
    "with open ('poem.txt','r',encoding ='utf8') as f:\n",
    "    poem = f.read()\n",
    "print(poem)"
   ]
  }
 ],
 "metadata": {
  "kernelspec": {
   "display_name": "Python 3",
   "language": "python",
   "name": "python3"
  },
  "language_info": {
   "codemirror_mode": {
    "name": "ipython",
    "version": 3
   },
   "file_extension": ".py",
   "mimetype": "text/x-python",
   "name": "python",
   "nbconvert_exporter": "python",
   "pygments_lexer": "ipython3",
   "version": "3.7.6"
  }
 },
 "nbformat": 4,
 "nbformat_minor": 4
}
