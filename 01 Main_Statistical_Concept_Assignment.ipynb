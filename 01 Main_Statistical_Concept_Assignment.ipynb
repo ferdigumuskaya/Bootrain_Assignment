{
 "cells": [
  {
   "cell_type": "markdown",
   "metadata": {},
   "source": [
    "# Assignment\n",
    "\n",
    "Please upload your solutions to the following assignments as Jupyter Notebook to your GitHub account and share the GitHub link with the button below. You can talk to your mentor about the issues you have in mind or ask Slack at office time.\n",
    "\n",
    "1. Analyze the central tendency and distribution measurements with the mathematical formula given above and the built-in codes available in python through 3 different data that you will generate using the numpy library !!!"
   ]
  },
  {
   "cell_type": "code",
   "execution_count": null,
   "metadata": {},
   "outputs": [],
   "source": [
    "import numpy as np\n",
    "import pandas as pd\n",
    "import matplotlib.pyplot as plt\n",
    "\n",
    "\n",
    "employee= pd.DataFrame()\n",
    "employee['emp_id']= np.arange(1,201)\n",
    "employee.set_index(['emp_id'])\n",
    "#Generated datas by using Numpy\n",
    "rng = np.random.default_rng()\n",
    "employee['emp_age']=np.append(rng.integers(low=20,high=60,size=100,dtype='int64'),rng.integers(low=40,high=60,size=100,dtype='int64'))\n",
    "employee['emp_exp']=np.append(rng.integers(low=0,high=20,size=150),rng.integers(low=20,high=30,size=50))\n",
    "employee['emp_salary']=np.append(np.round(np.random.normal(40000,10000,100),1),np.round(np.random.normal(60000,10000,100),1))\n",
    "\n",
    "plt.figure(figsize=(15,6))\n",
    "\n",
    "plt.subplot(1,3,1)\n",
    "plt.suptitle('The Analyse of Employees Data',color='red',size=15)\n",
    "print(\"--------------- {} -------------\".format(employee.columns[1]))\n",
    "print(\"The mean of employees' age is {}\".format(employee['emp_age'].mean()))\n",
    "print(\"The std of employees' age is {:.2f}\".format(employee['emp_age'].std()))\n",
    "print(\"The max age among employees is {}\".format(employee['emp_age'].max()))\n",
    "print(\"The min age among employees is {}\".format(employee['emp_age'].min()))\n",
    "plt.hist(employee['emp_age'])\n",
    "plt.title(\"The distribution of Employees' Age\",color='darkblue',size=12)\n",
    "plt.xlabel('Age',color='darkblue',size=10)\n",
    "\n",
    "plt.subplot(1,3,2)\n",
    "print(\"--------------- {} -------------\".format(employee.columns[2]))\n",
    "print(\"The mean of employees' Exp is {}\".format(employee['emp_exp'].mean()))\n",
    "print(\"The std of employees' Exp is {:.2f}\".format(employee['emp_exp'].std()))\n",
    "print(\"The max Exp among employees is {}\".format(employee['emp_exp'].max()))\n",
    "print(\"The min Exp among employees is {}\".format(employee['emp_exp'].min()))\n",
    "plt.hist(employee['emp_exp'])\n",
    "plt.title(\"The distribution of Employees' Experience\",color='darkblue',size=12)\n",
    "plt.xlabel('Experience',color='darkblue',size=10)\n",
    "\n",
    "plt.subplot(1,3,3)\n",
    "print(\"--------------- {} -------------\".format(employee.columns[3]))\n",
    "print(\"The mean of employees' Salary is {:.2f}\".format(employee['emp_salary'].mean()))\n",
    "print(\"The std of employees' Salary is {:.2f}\".format(employee['emp_salary'].std()))\n",
    "print(\"The max Salary among employees is {}\".format(employee['emp_salary'].max()))\n",
    "print(\"The min Salary among employees is {}\".format(employee['emp_salary'].min()))\n",
    "plt.hist(employee['emp_salary'])\n",
    "plt.title(\"The distribution of Employees' Salary\",color='darkblue',size=12)\n",
    "plt.xlabel('Salary',color='darkblue',size=10)\n",
    "plt.xticks(rotation=90,size=9)\n",
    "plt.show()"
   ]
  },
  {
   "cell_type": "code",
   "execution_count": null,
   "metadata": {},
   "outputs": [],
   "source": []
  }
 ],
 "metadata": {
  "kernelspec": {
   "display_name": "Python 3",
   "language": "python",
   "name": "python3"
  },
  "language_info": {
   "codemirror_mode": {
    "name": "ipython",
    "version": 3
   },
   "file_extension": ".py",
   "mimetype": "text/x-python",
   "name": "python",
   "nbconvert_exporter": "python",
   "pygments_lexer": "ipython3",
   "version": "3.7.6"
  }
 },
 "nbformat": 4,
 "nbformat_minor": 4
}
