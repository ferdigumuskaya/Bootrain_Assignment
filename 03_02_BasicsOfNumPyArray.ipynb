{
 "cells": [
  {
   "cell_type": "markdown",
   "metadata": {},
   "source": [
    "# <font color=blue>Assignments for \"basics of NumPy Array\"</font>"
   ]
  },
  {
   "cell_type": "markdown",
   "metadata": {},
   "source": [
    "1. Create 3 lists representing house features, each list containing 10 values. First one for squaremeter of house, second one for rooms and last one for price. Then, create an array combining these lists."
   ]
  },
  {
   "cell_type": "code",
   "execution_count": null,
   "metadata": {},
   "outputs": [],
   "source": [
    "import numpy as np\n",
    "sqm = [150,160,170,180,190,200,210,220,230,240]\n",
    "num_o_rooms =[5,6,7,8,9,10,11,12,13,14]\n",
    "price =[300000,350000,400000,450000,500000,550000,600000,650000,700000,750000]\n",
    "\n",
    "feat_house =np.array([sqm,num_o_rooms,price])\n",
    "\n",
    "print(feat_house)\n",
    "\n"
   ]
  },
  {
   "cell_type": "markdown",
   "metadata": {},
   "source": [
    "2. Transpose the array you have created, so that every line can represent features of one house."
   ]
  },
  {
   "cell_type": "code",
   "execution_count": null,
   "metadata": {},
   "outputs": [],
   "source": [
    "feat_each_house= np.transpose(feat_house)\n",
    "print(feat_each_house)"
   ]
  },
  {
   "cell_type": "markdown",
   "metadata": {},
   "source": [
    "3. Display the shape of the array and explain what it means."
   ]
  },
  {
   "cell_type": "code",
   "execution_count": null,
   "metadata": {},
   "outputs": [],
   "source": [
    "x,y = feat_each_house.shape\n",
    "print(\"{} : # of rows and {} :# of columns\".format(x,y))\n",
    "print(\"{} rows represent each of the houses \".format(x))\n",
    "print(\"{} colums represent the features - squaremeters, # of rooms and price- of each house \".format(y))\n"
   ]
  },
  {
   "cell_type": "markdown",
   "metadata": {},
   "source": [
    "4. Write a function that returns an array of ones with zeros where both row and column numbers are even. Sample array is below. Number of rows and columns will be entered as parameters.\n",
    "\n",
    "```python\n",
    "    shape(6 x 5) --> [[1   1   1   1   1]\n",
    "                      [1   0   1   0   1]\n",
    "                      [1   1   1   1   1]\n",
    "                      [1   0   1   0   1]\n",
    "                      [1   1   1   1   1]\n",
    "                      [1   0   1   0   1]]\n",
    "```"
   ]
  },
  {
   "cell_type": "code",
   "execution_count": null,
   "metadata": {},
   "outputs": [],
   "source": [
    "import numpy as np\n",
    "\n",
    "def sample_array():\n",
    "    array_ = np.ones([6,5])\n",
    "    for i in np.arange(1,6,2):\n",
    "        for j in np.arange(1,5,2):\n",
    "              array_[i,j]=0       \n",
    "    print(array_)    \n",
    "    return \n",
    "\n",
    "sample_array()\n",
    "    "
   ]
  }
 ],
 "metadata": {
  "kernelspec": {
   "display_name": "Python 3",
   "language": "python",
   "name": "python3"
  },
  "language_info": {
   "codemirror_mode": {
    "name": "ipython",
    "version": 3
   },
   "file_extension": ".py",
   "mimetype": "text/x-python",
   "name": "python",
   "nbconvert_exporter": "python",
   "pygments_lexer": "ipython3",
   "version": "3.7.6"
  }
 },
 "nbformat": 4,
 "nbformat_minor": 4
}
